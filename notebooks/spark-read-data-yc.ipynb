{
 "cells": [
  {
   "cell_type": "code",
   "execution_count": 1,
   "id": "abd9c90d",
   "metadata": {},
   "outputs": [],
   "source": [
    "import findspark\n",
    "findspark.init()\n",
    "\n",
    "import pyspark"
   ]
  },
  {
   "cell_type": "code",
   "execution_count": 6,
   "id": "b3669698",
   "metadata": {},
   "outputs": [],
   "source": [
    "spark = (\n",
    "    pyspark.sql.SparkSession.builder\n",
    "        .appName(\"notebook-read\")\n",
    "        .master(\"yarn\")\n",
    "        .config(\"spark.executor.memory\", \"1g\")\n",
    "        .config(\"spark.driver.memory\", \"1g\")\n",
    "        .getOrCreate()\n",
    ")\n",
    "spark.conf.set(\"spark.sql.repl.eagerEval.enabled\", True)"
   ]
  },
  {
   "cell_type": "code",
   "execution_count": 7,
   "id": "e0472ff8",
   "metadata": {},
   "outputs": [],
   "source": [
    "transactions_sdf = spark.read.format(\"parquet\").option(\"header\", True).option(\"separator\", \",\").load(\"hdfs:///user/otus/card-fraud-detection/transactions.parquet\")"
   ]
  },
  {
   "cell_type": "code",
   "execution_count": 8,
   "id": "38f2ab5b",
   "metadata": {},
   "outputs": [
    {
     "data": {
      "text/plain": [
       "16771692"
      ]
     },
     "execution_count": 8,
     "metadata": {},
     "output_type": "execute_result"
    }
   ],
   "source": [
    "transactions_sdf.count()"
   ]
  },
  {
   "cell_type": "code",
   "execution_count": 9,
   "id": "1bbd85e3",
   "metadata": {},
   "outputs": [],
   "source": [
    "spark.stop()"
   ]
  },
  {
   "cell_type": "code",
   "execution_count": null,
   "id": "adf09449",
   "metadata": {},
   "outputs": [],
   "source": [
    "14375736"
   ]
  }
 ],
 "metadata": {
  "kernelspec": {
   "display_name": "Python 3",
   "language": "python",
   "name": "python3"
  },
  "language_info": {
   "codemirror_mode": {
    "name": "ipython",
    "version": 3
   },
   "file_extension": ".py",
   "mimetype": "text/x-python",
   "name": "python",
   "nbconvert_exporter": "python",
   "pygments_lexer": "ipython3",
   "version": "3.8.10"
  }
 },
 "nbformat": 4,
 "nbformat_minor": 5
}
