{
 "cells": [
  {
   "cell_type": "code",
   "execution_count": 1,
   "id": "abd9c90d",
   "metadata": {},
   "outputs": [],
   "source": [
    "import findspark\n",
    "findspark.init()\n",
    "\n",
    "import pyspark\n",
    "from src.emulator import generate_transactions_table, add_frauds"
   ]
  },
  {
   "cell_type": "code",
   "execution_count": 2,
   "id": "b3669698",
   "metadata": {},
   "outputs": [],
   "source": [
    "spark = (\n",
    "    pyspark.sql.SparkSession.builder\n",
    "        .appName(\"notebook-update\")\n",
    "        .master(\"yarn\")\n",
    "        .config(\"spark.executor.memory\", \"1g\")\n",
    "        .config(\"spark.driver.memory\", \"1g\")\n",
    "        .getOrCreate()\n",
    ")\n",
    "spark.conf.set(\"spark.sql.repl.eagerEval.enabled\", True)"
   ]
  },
  {
   "cell_type": "code",
   "execution_count": 3,
   "id": "a305b1a2",
   "metadata": {},
   "outputs": [
    {
     "data": {
      "text/plain": [
       "2539953"
      ]
     },
     "execution_count": 3,
     "metadata": {},
     "output_type": "execute_result"
    }
   ],
   "source": [
    "transactions_sdf = (\n",
    "    spark.read\n",
    "    .format(\"parquet\")\n",
    "    .option(\"header\", True)\n",
    "    .option(\"separator\", \",\")\n",
    "    .load(\"hdfs:///user/otus/card-fraud-detection/transactions.parquet\")\n",
    ")\n",
    "transactions_sdf.count()"
   ]
  },
  {
   "cell_type": "code",
   "execution_count": 4,
   "id": "e0472ff8",
   "metadata": {},
   "outputs": [],
   "source": [
    "customer_profiles_table_sdf = (\n",
    "    spark.read\n",
    "    .format(\"parquet\")\n",
    "    .option(\"header\", True)\n",
    "    .option(\"separator\", \",\")\n",
    "    .load(\"hdfs:///user/otus/card-fraud-detection/customer_profiles_table.parquet\")\n",
    ")\n",
    "terminal_profiles_table_sdf = (\n",
    "    spark.read\n",
    "    .format(\"parquet\")\n",
    "    .option(\"header\", True)\n",
    "    .option(\"separator\", \",\")\n",
    "    .load(\"hdfs:///user/otus/card-fraud-detection/terminal_profiles_table.parquet\")\n",
    ")\n",
    "customer_profiles_table_df = customer_profiles_table_sdf.toPandas()\n",
    "terminal_profiles_table_df = terminal_profiles_table_sdf.toPandas()"
   ]
  },
  {
   "cell_type": "code",
   "execution_count": 5,
   "id": "401ab684",
   "metadata": {},
   "outputs": [
    {
     "name": "stdout",
     "output_type": "stream",
     "text": [
      "Number of frauds from scenario 1: 19\n",
      "Number of frauds from scenario 2: 18\n",
      "Number of frauds from scenario 3: 23\n"
     ]
    }
   ],
   "source": [
    "transactions_df = customer_profiles_table_df.groupby('CUSTOMER_ID').apply(lambda x : generate_transactions_table(x.iloc[0], nb_days=5)).reset_index(drop=True)\n",
    "transactions_df = add_frauds(customer_profiles_table_df, terminal_profiles_table_df, transactions_df)"
   ]
  },
  {
   "cell_type": "code",
   "execution_count": 6,
   "id": "58b866e5",
   "metadata": {},
   "outputs": [
    {
     "name": "stderr",
     "output_type": "stream",
     "text": [
      "/usr/lib/spark/python/pyspark/sql/pandas/conversion.py:327: FutureWarning: iteritems is deprecated and will be removed in a future version. Use .items instead.\n",
      "  for column, series in pdf.iteritems():\n"
     ]
    },
    {
     "name": "stdout",
     "output_type": "stream",
     "text": [
      "root\n",
      " |-- TX_DATETIME: timestamp (nullable = true)\n",
      " |-- CUSTOMER_ID: long (nullable = true)\n",
      " |-- TERMINAL_ID: long (nullable = true)\n",
      " |-- TX_AMOUNT: double (nullable = true)\n",
      " |-- TX_TIME_SECONDS: long (nullable = true)\n",
      " |-- TX_TIME_DAYS: long (nullable = true)\n",
      " |-- TX_FRAUD: long (nullable = true)\n",
      " |-- TX_FRAUD_SCENARIO: long (nullable = true)\n",
      "\n"
     ]
    }
   ],
   "source": [
    "transactions_sdf = spark.createDataFrame(transactions_df) \n",
    "transactions_sdf.printSchema()"
   ]
  },
  {
   "cell_type": "code",
   "execution_count": 7,
   "id": "e6252e3e",
   "metadata": {},
   "outputs": [],
   "source": [
    "transactions_sdf.write.mode(\"append\").parquet(\"hdfs:///user/otus/card-fraud-detection/transactions.parquet\")"
   ]
  },
  {
   "cell_type": "code",
   "execution_count": 8,
   "id": "e3160fb7",
   "metadata": {},
   "outputs": [
    {
     "data": {
      "text/plain": [
       "47999"
      ]
     },
     "execution_count": 8,
     "metadata": {},
     "output_type": "execute_result"
    }
   ],
   "source": [
    "transactions_sdf.count()"
   ]
  },
  {
   "cell_type": "code",
   "execution_count": 9,
   "id": "d8eadc07",
   "metadata": {},
   "outputs": [
    {
     "data": {
      "text/plain": [
       "2587952"
      ]
     },
     "execution_count": 9,
     "metadata": {},
     "output_type": "execute_result"
    }
   ],
   "source": [
    "transactions_sdf = (\n",
    "    spark.read\n",
    "    .format(\"parquet\")\n",
    "    .option(\"header\", True)\n",
    "    .option(\"separator\", \",\")\n",
    "    .load(\"hdfs:///user/otus/card-fraud-detection/transactions.parquet\")\n",
    ")\n",
    "transactions_sdf.count()"
   ]
  },
  {
   "cell_type": "code",
   "execution_count": 10,
   "id": "4f403f1e",
   "metadata": {},
   "outputs": [],
   "source": [
    "spark.stop()"
   ]
  },
  {
   "cell_type": "code",
   "execution_count": null,
   "id": "f2a6aa02",
   "metadata": {},
   "outputs": [],
   "source": []
  }
 ],
 "metadata": {
  "kernelspec": {
   "display_name": "Python 3",
   "language": "python",
   "name": "python3"
  },
  "language_info": {
   "codemirror_mode": {
    "name": "ipython",
    "version": 3
   },
   "file_extension": ".py",
   "mimetype": "text/x-python",
   "name": "python",
   "nbconvert_exporter": "python",
   "pygments_lexer": "ipython3",
   "version": "3.8.10"
  }
 },
 "nbformat": 4,
 "nbformat_minor": 5
}
