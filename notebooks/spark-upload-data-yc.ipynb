{
 "cells": [
  {
   "cell_type": "code",
   "execution_count": 12,
   "id": "cef757da",
   "metadata": {},
   "outputs": [],
   "source": [
    "import findspark\n",
    "findspark.init()\n",
    "\n",
    "import pyspark\n",
    "\n",
    "from src.emulator import generate_transactions_table, add_frauds, generate_dataset"
   ]
  },
  {
   "cell_type": "code",
   "execution_count": 13,
   "id": "ed07838c",
   "metadata": {},
   "outputs": [
    {
     "name": "stdout",
     "output_type": "stream",
     "text": [
      "Time to generate customer profiles table: 0.095s\n",
      "Time to generate terminal profiles table: 4.7s\n",
      "Time to associate terminals to customers: 1.2e+02s\n",
      "Time to generate transactions: 1.1e+02s\n"
     ]
    }
   ],
   "source": [
    "customer_profiles_table_df, terminal_profiles_table_df, transactions_df = generate_dataset()"
   ]
  },
  {
   "cell_type": "code",
   "execution_count": 3,
   "id": "d4483ae0",
   "metadata": {},
   "outputs": [
    {
     "name": "stdout",
     "output_type": "stream",
     "text": [
      "Number of frauds from scenario 1: 1306\n",
      "Number of frauds from scenario 2: 12755\n",
      "Number of frauds from scenario 3: 6271\n"
     ]
    }
   ],
   "source": [
    "transactions_df = add_frauds(customer_profiles_table_df, terminal_profiles_table_df, transactions_df)"
   ]
  },
  {
   "cell_type": "code",
   "execution_count": 4,
   "id": "e3e7a725",
   "metadata": {},
   "outputs": [
    {
     "name": "stdout",
     "output_type": "stream",
     "text": [
      "<class 'pandas.core.frame.DataFrame'>\n",
      "RangeIndex: 5000 entries, 0 to 4999\n",
      "Data columns (total 8 columns):\n",
      " #   Column               Non-Null Count  Dtype  \n",
      "---  ------               --------------  -----  \n",
      " 0   CUSTOMER_ID          5000 non-null   int64  \n",
      " 1   x_customer_id        5000 non-null   float64\n",
      " 2   y_customer_id        5000 non-null   float64\n",
      " 3   mean_amount          5000 non-null   float64\n",
      " 4   std_amount           5000 non-null   float64\n",
      " 5   mean_nb_tx_per_day   5000 non-null   float64\n",
      " 6   available_terminals  5000 non-null   object \n",
      " 7   nb_terminals         5000 non-null   int64  \n",
      "dtypes: float64(5), int64(2), object(1)\n",
      "memory usage: 312.6+ KB\n"
     ]
    }
   ],
   "source": [
    "customer_profiles_table_df.info()"
   ]
  },
  {
   "cell_type": "code",
   "execution_count": 5,
   "id": "342a6100",
   "metadata": {},
   "outputs": [
    {
     "name": "stdout",
     "output_type": "stream",
     "text": [
      "<class 'pandas.core.frame.DataFrame'>\n",
      "RangeIndex: 10000 entries, 0 to 9999\n",
      "Data columns (total 3 columns):\n",
      " #   Column         Non-Null Count  Dtype  \n",
      "---  ------         --------------  -----  \n",
      " 0   TERMINAL_ID    10000 non-null  int64  \n",
      " 1   x_terminal_id  10000 non-null  float64\n",
      " 2   y_terminal_id  10000 non-null  float64\n",
      "dtypes: float64(2), int64(1)\n",
      "memory usage: 234.5 KB\n"
     ]
    }
   ],
   "source": [
    "terminal_profiles_table_df.info()"
   ]
  },
  {
   "cell_type": "code",
   "execution_count": 11,
   "id": "2c23cbde",
   "metadata": {},
   "outputs": [
    {
     "name": "stdout",
     "output_type": "stream",
     "text": [
      "<class 'pandas.core.frame.DataFrame'>\n",
      "RangeIndex: 2395956 entries, 0 to 2395955\n",
      "Data columns (total 9 columns):\n",
      " #   Column             Dtype         \n",
      "---  ------             -----         \n",
      " 0   TRANSACTION_ID     int64         \n",
      " 1   TX_DATETIME        datetime64[ns]\n",
      " 2   CUSTOMER_ID        object        \n",
      " 3   TERMINAL_ID        object        \n",
      " 4   TX_AMOUNT          float64       \n",
      " 5   TX_TIME_SECONDS    object        \n",
      " 6   TX_TIME_DAYS       object        \n",
      " 7   TX_FRAUD           int64         \n",
      " 8   TX_FRAUD_SCENARIO  int64         \n",
      "dtypes: datetime64[ns](1), float64(1), int64(3), object(4)\n",
      "memory usage: 164.5+ MB\n"
     ]
    }
   ],
   "source": [
    "transactions_df.info()"
   ]
  },
  {
   "cell_type": "code",
   "execution_count": 7,
   "id": "7fbd65a1",
   "metadata": {
    "scrolled": false
   },
   "outputs": [],
   "source": [
    "spark = (\n",
    "    pyspark.sql.SparkSession.builder\n",
    "        .appName(\"notebook-create\")\n",
    "        .master(\"yarn\")\n",
    "        .config(\"spark.executor.memory\", \"1g\")\n",
    "        .config(\"spark.driver.memory\", \"1g\")\n",
    "        .getOrCreate()\n",
    ")\n",
    "spark.conf.set(\"spark.sql.repl.eagerEval.enabled\", True)"
   ]
  },
  {
   "cell_type": "code",
   "execution_count": 8,
   "id": "691dd1e6",
   "metadata": {
    "scrolled": true
   },
   "outputs": [
    {
     "name": "stderr",
     "output_type": "stream",
     "text": [
      "/usr/lib/spark/python/pyspark/sql/pandas/conversion.py:327: FutureWarning: iteritems is deprecated and will be removed in a future version. Use .items instead.\n",
      "  for column, series in pdf.iteritems():\n"
     ]
    },
    {
     "name": "stdout",
     "output_type": "stream",
     "text": [
      "root\n",
      " |-- TRANSACTION_ID: long (nullable = true)\n",
      " |-- TX_DATETIME: timestamp (nullable = true)\n",
      " |-- CUSTOMER_ID: long (nullable = true)\n",
      " |-- TERMINAL_ID: long (nullable = true)\n",
      " |-- TX_AMOUNT: double (nullable = true)\n",
      " |-- TX_TIME_SECONDS: long (nullable = true)\n",
      " |-- TX_TIME_DAYS: long (nullable = true)\n",
      " |-- TX_FRAUD: long (nullable = true)\n",
      " |-- TX_FRAUD_SCENARIO: long (nullable = true)\n",
      "\n",
      "root\n",
      " |-- TERMINAL_ID: long (nullable = true)\n",
      " |-- x_terminal_id: double (nullable = true)\n",
      " |-- y_terminal_id: double (nullable = true)\n",
      "\n",
      "root\n",
      " |-- CUSTOMER_ID: long (nullable = true)\n",
      " |-- x_customer_id: double (nullable = true)\n",
      " |-- y_customer_id: double (nullable = true)\n",
      " |-- mean_amount: double (nullable = true)\n",
      " |-- std_amount: double (nullable = true)\n",
      " |-- mean_nb_tx_per_day: double (nullable = true)\n",
      " |-- available_terminals: array (nullable = true)\n",
      " |    |-- element: long (containsNull = true)\n",
      " |-- nb_terminals: long (nullable = true)\n",
      "\n"
     ]
    }
   ],
   "source": [
    "transactions_sdf = spark.createDataFrame(transactions_df) \n",
    "transactions_sdf.printSchema()\n",
    "\n",
    "terminal_profiles_table_sdf = spark.createDataFrame(terminal_profiles_table_df) \n",
    "terminal_profiles_table_sdf.printSchema()\n",
    "\n",
    "customer_profiles_table_sdf = spark.createDataFrame(customer_profiles_table_df) \n",
    "customer_profiles_table_sdf.printSchema()"
   ]
  },
  {
   "cell_type": "code",
   "execution_count": 9,
   "id": "b7296d47",
   "metadata": {},
   "outputs": [],
   "source": [
    "transactions_sdf.write.mode(\"append\").parquet(\"hdfs:///user/otus/card-fraud-detection/transactions.parquet\")\n",
    "terminal_profiles_table_sdf.write.mode(\"append\").parquet(\"hdfs:///user/otus/card-fraud-detection/terminal_profiles_table.parquet\")    \n",
    "customer_profiles_table_sdf.write.mode(\"append\").parquet(\"hdfs:///user/otus/card-fraud-detection/customer_profiles_table.parquet\")"
   ]
  },
  {
   "cell_type": "code",
   "execution_count": 10,
   "id": "d095230d",
   "metadata": {},
   "outputs": [],
   "source": [
    "spark.stop()"
   ]
  },
  {
   "cell_type": "code",
   "execution_count": null,
   "id": "ea531123",
   "metadata": {},
   "outputs": [],
   "source": []
  }
 ],
 "metadata": {
  "kernelspec": {
   "display_name": "Python 3",
   "language": "python",
   "name": "python3"
  },
  "language_info": {
   "codemirror_mode": {
    "name": "ipython",
    "version": 3
   },
   "file_extension": ".py",
   "mimetype": "text/x-python",
   "name": "python",
   "nbconvert_exporter": "python",
   "pygments_lexer": "ipython3",
   "version": "3.8.10"
  }
 },
 "nbformat": 4,
 "nbformat_minor": 5
}
